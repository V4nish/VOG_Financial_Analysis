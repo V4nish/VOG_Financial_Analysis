{
 "cells": [
  {
   "cell_type": "code",
   "execution_count": 3,
   "metadata": {},
   "outputs": [],
   "source": [
    "import pandas as pd"
   ]
  },
  {
   "cell_type": "code",
   "execution_count": 16,
   "metadata": {},
   "outputs": [],
   "source": [
    "from os import walk\n",
    "\n",
    "filenames = next(walk('./VOGData/'), (None, None, []))[2]  # [] if no file\n",
    "# sauce: https://stackoverflow.com/a/3207973"
   ]
  },
  {
   "cell_type": "code",
   "execution_count": 25,
   "metadata": {},
   "outputs": [],
   "source": [
    "def get_common_columns(files, **kwargs):\n",
    "    \"\"\"Get set intersection of column-names of specified CSV files\"\"\"\n",
    "    common_columns = set(pd.read_csv('./VOGData/' + files[0], nrows=0, **kwargs).columns)\n",
    "    for f in files:\n",
    "        common_columns &= set(pd.read_csv('./VOGData/' + f, nrows=0, **kwargs).columns)\n",
    "    return common_columns\n"
   ]
  },
  {
   "cell_type": "code",
   "execution_count": 26,
   "metadata": {},
   "outputs": [
    {
     "data": {
      "text/plain": [
       "{'COST CENTRE'}"
      ]
     },
     "execution_count": 26,
     "metadata": {},
     "output_type": "execute_result"
    }
   ],
   "source": [
    "get_common_columns(filenames)"
   ]
  },
  {
   "attachments": {},
   "cell_type": "markdown",
   "metadata": {},
   "source": [
    "### LOOOOO0L! {'COST CENTRE'}"
   ]
  },
  {
   "cell_type": "code",
   "execution_count": 27,
   "metadata": {},
   "outputs": [
    {
     "data": {
      "text/plain": [
       "57"
      ]
     },
     "execution_count": 27,
     "metadata": {},
     "output_type": "execute_result"
    }
   ],
   "source": [
    "len(filenames)"
   ]
  },
  {
   "cell_type": "code",
   "execution_count": 28,
   "metadata": {},
   "outputs": [
    {
     "data": {
      "text/html": [
       "<div>\n",
       "<style scoped>\n",
       "    .dataframe tbody tr th:only-of-type {\n",
       "        vertical-align: middle;\n",
       "    }\n",
       "\n",
       "    .dataframe tbody tr th {\n",
       "        vertical-align: top;\n",
       "    }\n",
       "\n",
       "    .dataframe thead th {\n",
       "        text-align: right;\n",
       "    }\n",
       "</style>\n",
       "<table border=\"1\" class=\"dataframe\">\n",
       "  <thead>\n",
       "    <tr style=\"text-align: right;\">\n",
       "      <th></th>\n",
       "      <th>Directorate</th>\n",
       "      <th>Sub Directorate</th>\n",
       "      <th>Accounting Date</th>\n",
       "      <th>COST CENTRE</th>\n",
       "      <th>Supplier Name</th>\n",
       "      <th>Net Amount</th>\n",
       "      <th>Type</th>\n",
       "    </tr>\n",
       "  </thead>\n",
       "  <tbody>\n",
       "    <tr>\n",
       "      <th>0</th>\n",
       "      <td>DIRECT ENVIRONMENT AND HOUSING</td>\n",
       "      <td>VEHICLES</td>\n",
       "      <td>01-Apr-18</td>\n",
       "      <td>319000</td>\n",
       "      <td>UK Telematics Limited</td>\n",
       "      <td>865.40</td>\n",
       "      <td>Revenue</td>\n",
       "    </tr>\n",
       "    <tr>\n",
       "      <th>1</th>\n",
       "      <td>DIRECT ENVIRONMENT AND HOUSING</td>\n",
       "      <td>VEHICLES</td>\n",
       "      <td>01-Apr-18</td>\n",
       "      <td>319000</td>\n",
       "      <td>UK Telematics Limited</td>\n",
       "      <td>5202.39</td>\n",
       "      <td>Revenue</td>\n",
       "    </tr>\n",
       "    <tr>\n",
       "      <th>2</th>\n",
       "      <td>DIRECT ENVIRONMENT AND HOUSING</td>\n",
       "      <td>VEHICLES</td>\n",
       "      <td>01-Apr-18</td>\n",
       "      <td>319000</td>\n",
       "      <td>UK Telematics Limited</td>\n",
       "      <td>727.35</td>\n",
       "      <td>Revenue</td>\n",
       "    </tr>\n",
       "    <tr>\n",
       "      <th>3</th>\n",
       "      <td>DIRECT SOCIAL SERVICES</td>\n",
       "      <td>GF ADULT SERVICES</td>\n",
       "      <td>03-Apr-18</td>\n",
       "      <td>215489</td>\n",
       "      <td>1st Grade Care Limited</td>\n",
       "      <td>514.78</td>\n",
       "      <td>Revenue</td>\n",
       "    </tr>\n",
       "    <tr>\n",
       "      <th>4</th>\n",
       "      <td>DIRECT SOCIAL SERVICES</td>\n",
       "      <td>GF ADULT SERVICES</td>\n",
       "      <td>03-Apr-18</td>\n",
       "      <td>215489</td>\n",
       "      <td>1st Grade Care Limited</td>\n",
       "      <td>593.18</td>\n",
       "      <td>Revenue</td>\n",
       "    </tr>\n",
       "    <tr>\n",
       "      <th>...</th>\n",
       "      <td>...</td>\n",
       "      <td>...</td>\n",
       "      <td>...</td>\n",
       "      <td>...</td>\n",
       "      <td>...</td>\n",
       "      <td>...</td>\n",
       "      <td>...</td>\n",
       "    </tr>\n",
       "    <tr>\n",
       "      <th>2260</th>\n",
       "      <td>DIRECT LEARNING AND SKILLS</td>\n",
       "      <td>SCHOOLS DELEGATED</td>\n",
       "      <td>30-Apr-18</td>\n",
       "      <td>101195</td>\n",
       "      <td>New Directions (Education) Limited</td>\n",
       "      <td>612.05</td>\n",
       "      <td>Revenue</td>\n",
       "    </tr>\n",
       "    <tr>\n",
       "      <th>2261</th>\n",
       "      <td>DIRECT LEARNING AND SKILLS</td>\n",
       "      <td>SCHOOLS NON DELEGATED</td>\n",
       "      <td>30-Apr-18</td>\n",
       "      <td>103202</td>\n",
       "      <td>Valley Education Services Limited</td>\n",
       "      <td>813.84</td>\n",
       "      <td>Revenue</td>\n",
       "    </tr>\n",
       "    <tr>\n",
       "      <th>2262</th>\n",
       "      <td>DIRECT MANAGING DIRECTOR AND RESOURCES</td>\n",
       "      <td>GF RESOURCES</td>\n",
       "      <td>30-Apr-18</td>\n",
       "      <td>422160</td>\n",
       "      <td>Anderselite Limited</td>\n",
       "      <td>725.00</td>\n",
       "      <td>Revenue</td>\n",
       "    </tr>\n",
       "    <tr>\n",
       "      <th>2263</th>\n",
       "      <td>DIRECT LEARNING AND SKILLS</td>\n",
       "      <td>CATERING</td>\n",
       "      <td>30-Apr-18</td>\n",
       "      <td>150401</td>\n",
       "      <td>Russel Bishop t/a WR Bishop &amp; Co</td>\n",
       "      <td>2394.70</td>\n",
       "      <td>Revenue</td>\n",
       "    </tr>\n",
       "    <tr>\n",
       "      <th>2264</th>\n",
       "      <td>DIRECT SOCIAL SERVICES</td>\n",
       "      <td>GF CHILDREN SERVICES</td>\n",
       "      <td>30-Apr-18</td>\n",
       "      <td>260060</td>\n",
       "      <td>Barnardos Cymru</td>\n",
       "      <td>2978.57</td>\n",
       "      <td>Revenue</td>\n",
       "    </tr>\n",
       "  </tbody>\n",
       "</table>\n",
       "<p>2265 rows × 7 columns</p>\n",
       "</div>"
      ],
      "text/plain": [
       "                                 Directorate        Sub Directorate   \n",
       "0             DIRECT ENVIRONMENT AND HOUSING               VEHICLES  \\\n",
       "1             DIRECT ENVIRONMENT AND HOUSING               VEHICLES   \n",
       "2             DIRECT ENVIRONMENT AND HOUSING               VEHICLES   \n",
       "3                     DIRECT SOCIAL SERVICES      GF ADULT SERVICES   \n",
       "4                     DIRECT SOCIAL SERVICES      GF ADULT SERVICES   \n",
       "...                                      ...                    ...   \n",
       "2260              DIRECT LEARNING AND SKILLS      SCHOOLS DELEGATED   \n",
       "2261              DIRECT LEARNING AND SKILLS  SCHOOLS NON DELEGATED   \n",
       "2262  DIRECT MANAGING DIRECTOR AND RESOURCES           GF RESOURCES   \n",
       "2263              DIRECT LEARNING AND SKILLS               CATERING   \n",
       "2264                  DIRECT SOCIAL SERVICES   GF CHILDREN SERVICES   \n",
       "\n",
       "     Accounting Date  COST CENTRE                       Supplier Name   \n",
       "0          01-Apr-18       319000               UK Telematics Limited  \\\n",
       "1          01-Apr-18       319000               UK Telematics Limited   \n",
       "2          01-Apr-18       319000               UK Telematics Limited   \n",
       "3          03-Apr-18       215489              1st Grade Care Limited   \n",
       "4          03-Apr-18       215489              1st Grade Care Limited   \n",
       "...              ...          ...                                 ...   \n",
       "2260       30-Apr-18       101195  New Directions (Education) Limited   \n",
       "2261       30-Apr-18       103202   Valley Education Services Limited   \n",
       "2262       30-Apr-18       422160                 Anderselite Limited   \n",
       "2263       30-Apr-18       150401    Russel Bishop t/a WR Bishop & Co   \n",
       "2264       30-Apr-18       260060                     Barnardos Cymru   \n",
       "\n",
       "      Net Amount     Type  \n",
       "0         865.40  Revenue  \n",
       "1        5202.39  Revenue  \n",
       "2         727.35  Revenue  \n",
       "3         514.78  Revenue  \n",
       "4         593.18  Revenue  \n",
       "...          ...      ...  \n",
       "2260      612.05  Revenue  \n",
       "2261      813.84  Revenue  \n",
       "2262      725.00  Revenue  \n",
       "2263     2394.70  Revenue  \n",
       "2264     2978.57  Revenue  \n",
       "\n",
       "[2265 rows x 7 columns]"
      ]
     },
     "execution_count": 28,
     "metadata": {},
     "output_type": "execute_result"
    }
   ],
   "source": [
    "df1 = pd.read_csv(\"./VOGData/Payables-Greater-than-500-April-2018.csv\")\n",
    "df1"
   ]
  },
  {
   "cell_type": "code",
   "execution_count": 30,
   "metadata": {},
   "outputs": [
    {
     "name": "stdout",
     "output_type": "stream",
     "text": [
      "<class 'pandas.core.frame.DataFrame'>\n",
      "RangeIndex: 2265 entries, 0 to 2264\n",
      "Data columns (total 7 columns):\n",
      " #   Column           Non-Null Count  Dtype  \n",
      "---  ------           --------------  -----  \n",
      " 0   Directorate      2265 non-null   object \n",
      " 1   Sub Directorate  2265 non-null   object \n",
      " 2   Accounting Date  2265 non-null   object \n",
      " 3   COST CENTRE      2265 non-null   int64  \n",
      " 4   Supplier Name    2265 non-null   object \n",
      " 5   Net Amount       2265 non-null   float64\n",
      " 6   Type             2265 non-null   object \n",
      "dtypes: float64(1), int64(1), object(5)\n",
      "memory usage: 124.0+ KB\n"
     ]
    }
   ],
   "source": [
    "df1.info()"
   ]
  },
  {
   "cell_type": "code",
   "execution_count": 32,
   "metadata": {},
   "outputs": [
    {
     "data": {
      "text/html": [
       "<div>\n",
       "<style scoped>\n",
       "    .dataframe tbody tr th:only-of-type {\n",
       "        vertical-align: middle;\n",
       "    }\n",
       "\n",
       "    .dataframe tbody tr th {\n",
       "        vertical-align: top;\n",
       "    }\n",
       "\n",
       "    .dataframe thead th {\n",
       "        text-align: right;\n",
       "    }\n",
       "</style>\n",
       "<table border=\"1\" class=\"dataframe\">\n",
       "  <thead>\n",
       "    <tr style=\"text-align: right;\">\n",
       "      <th></th>\n",
       "      <th>COST CENTRE</th>\n",
       "      <th>Net Amount</th>\n",
       "    </tr>\n",
       "  </thead>\n",
       "  <tbody>\n",
       "    <tr>\n",
       "      <th>count</th>\n",
       "      <td>2265.000000</td>\n",
       "      <td>2265.000000</td>\n",
       "    </tr>\n",
       "    <tr>\n",
       "      <th>mean</th>\n",
       "      <td>273014.166887</td>\n",
       "      <td>4621.689210</td>\n",
       "    </tr>\n",
       "    <tr>\n",
       "      <th>std</th>\n",
       "      <td>154659.334889</td>\n",
       "      <td>23886.274436</td>\n",
       "    </tr>\n",
       "    <tr>\n",
       "      <th>min</th>\n",
       "      <td>100121.000000</td>\n",
       "      <td>-66824.720000</td>\n",
       "    </tr>\n",
       "    <tr>\n",
       "      <th>25%</th>\n",
       "      <td>215489.000000</td>\n",
       "      <td>600.000000</td>\n",
       "    </tr>\n",
       "    <tr>\n",
       "      <th>50%</th>\n",
       "      <td>217909.000000</td>\n",
       "      <td>837.200000</td>\n",
       "    </tr>\n",
       "    <tr>\n",
       "      <th>75%</th>\n",
       "      <td>325340.000000</td>\n",
       "      <td>1999.500000</td>\n",
       "    </tr>\n",
       "    <tr>\n",
       "      <th>max</th>\n",
       "      <td>852515.000000</td>\n",
       "      <td>562810.550000</td>\n",
       "    </tr>\n",
       "  </tbody>\n",
       "</table>\n",
       "</div>"
      ],
      "text/plain": [
       "         COST CENTRE     Net Amount\n",
       "count    2265.000000    2265.000000\n",
       "mean   273014.166887    4621.689210\n",
       "std    154659.334889   23886.274436\n",
       "min    100121.000000  -66824.720000\n",
       "25%    215489.000000     600.000000\n",
       "50%    217909.000000     837.200000\n",
       "75%    325340.000000    1999.500000\n",
       "max    852515.000000  562810.550000"
      ]
     },
     "execution_count": 32,
     "metadata": {},
     "output_type": "execute_result"
    }
   ],
   "source": [
    "df1.describe()"
   ]
  },
  {
   "cell_type": "code",
   "execution_count": null,
   "metadata": {},
   "outputs": [],
   "source": []
  }
 ],
 "metadata": {
  "kernelspec": {
   "display_name": "Python 3",
   "language": "python",
   "name": "python3"
  },
  "language_info": {
   "codemirror_mode": {
    "name": "ipython",
    "version": 3
   },
   "file_extension": ".py",
   "mimetype": "text/x-python",
   "name": "python",
   "nbconvert_exporter": "python",
   "pygments_lexer": "ipython3",
   "version": "3.9.6"
  },
  "orig_nbformat": 4
 },
 "nbformat": 4,
 "nbformat_minor": 2
}
